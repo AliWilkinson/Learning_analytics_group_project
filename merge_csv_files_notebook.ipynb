{
 "cells": [
  {
   "cell_type": "code",
   "execution_count": 1,
   "id": "c46e39b8",
   "metadata": {},
   "outputs": [],
   "source": [
    "import pandas as pd"
   ]
  },
  {
   "cell_type": "code",
   "execution_count": 189,
   "id": "ee6da674",
   "metadata": {},
   "outputs": [],
   "source": [
    "# read in csv files \n",
    "studentVle = pd.read_csv('studentVle.csv')\n",
    "vle = pd.read_csv('vle.csv')\n",
    "studentInfo = pd.read_csv('studentInfo.csv')"
   ]
  },
  {
   "cell_type": "code",
   "execution_count": 214,
   "id": "bcd903a7",
   "metadata": {},
   "outputs": [
    {
     "name": "stdout",
     "output_type": "stream",
     "text": [
      "(10655280, 6)\n",
      "code_module          object\n",
      "code_presentation    object\n",
      "id_student            int64\n",
      "id_site               int64\n",
      "date                  int64\n",
      "sum_click             int64\n",
      "dtype: object\n",
      "code_module          0\n",
      "code_presentation    0\n",
      "id_student           0\n",
      "id_site              0\n",
      "date                 0\n",
      "sum_click            0\n",
      "dtype: int64\n"
     ]
    }
   ],
   "source": [
    "# check shape, data types and missing data from studentVle\n",
    "print(studentVle.shape)\n",
    "print(studentVle.dtypes)\n",
    "print(studentVle.isnull().sum())"
   ]
  },
  {
   "cell_type": "code",
   "execution_count": 216,
   "id": "50ef59e5",
   "metadata": {},
   "outputs": [
    {
     "name": "stdout",
     "output_type": "stream",
     "text": [
      "(6364, 4)\n",
      "id_site               int64\n",
      "code_module          object\n",
      "code_presentation    object\n",
      "activity_type        object\n",
      "dtype: object\n",
      "id_site              0\n",
      "code_module          0\n",
      "code_presentation    0\n",
      "activity_type        0\n",
      "dtype: int64\n"
     ]
    }
   ],
   "source": [
    "# check shape, data types and missing data from vle\n",
    "print(vle.shape)\n",
    "print(vle.dtypes)\n",
    "print(vle.isnull().sum())"
   ]
  },
  {
   "cell_type": "code",
   "execution_count": 215,
   "id": "6ee10fc9",
   "metadata": {},
   "outputs": [
    {
     "name": "stdout",
     "output_type": "stream",
     "text": [
      "(32593, 12)\n",
      "code_module             object\n",
      "code_presentation       object\n",
      "id_student               int64\n",
      "gender                  object\n",
      "region                  object\n",
      "highest_education       object\n",
      "imd_band                object\n",
      "age_band                object\n",
      "num_of_prev_attempts     int64\n",
      "studied_credits          int64\n",
      "disability              object\n",
      "final_result            object\n",
      "dtype: object\n",
      "code_module                0\n",
      "code_presentation          0\n",
      "id_student                 0\n",
      "gender                     0\n",
      "region                     0\n",
      "highest_education          0\n",
      "imd_band                1111\n",
      "age_band                   0\n",
      "num_of_prev_attempts       0\n",
      "studied_credits            0\n",
      "disability                 0\n",
      "final_result               0\n",
      "dtype: int64\n"
     ]
    }
   ],
   "source": [
    "# check shape, data types and missing data from studentInfo\n",
    "print(studentInfo.shape)\n",
    "print(studentInfo.dtypes)\n",
    "print(studentInfo.isnull().sum())"
   ]
  },
  {
   "cell_type": "code",
   "execution_count": null,
   "id": "d0998f43",
   "metadata": {},
   "outputs": [],
   "source": [
    "# imd band has missing values - can be ignored until it is needed for analysis "
   ]
  },
  {
   "cell_type": "code",
   "execution_count": 194,
   "id": "32c47318",
   "metadata": {},
   "outputs": [],
   "source": [
    "# drop columns from vle\n",
    "vle.drop(['week_from', 'week_to'], axis=1, inplace=True)"
   ]
  },
  {
   "cell_type": "code",
   "execution_count": 199,
   "id": "38faa58e",
   "metadata": {},
   "outputs": [],
   "source": [
    "# merge the three datasets on the combined columns\n",
    "studentVle_vle_info = pd.merge(studentInfo, pd.merge(studentVle, vle, on=['id_site', 'code_module', 'code_presentation'], how='inner'), on=['id_student', 'code_module', 'code_presentation'], how='inner')"
   ]
  },
  {
   "cell_type": "code",
   "execution_count": 200,
   "id": "be45b585",
   "metadata": {},
   "outputs": [
    {
     "data": {
      "text/plain": [
       "Index(['code_module', 'code_presentation', 'id_student', 'gender', 'region',\n",
       "       'highest_education', 'imd_band', 'age_band', 'num_of_prev_attempts',\n",
       "       'studied_credits', 'disability', 'final_result', 'id_site', 'date',\n",
       "       'sum_click', 'activity_type'],\n",
       "      dtype='object')"
      ]
     },
     "execution_count": 200,
     "metadata": {},
     "output_type": "execute_result"
    }
   ],
   "source": [
    "studentVle_vle_info.columns"
   ]
  },
  {
   "cell_type": "code",
   "execution_count": 201,
   "id": "7cbdc5ab",
   "metadata": {},
   "outputs": [
    {
     "data": {
      "text/plain": [
       "(10655280, 16)"
      ]
     },
     "execution_count": 201,
     "metadata": {},
     "output_type": "execute_result"
    }
   ],
   "source": [
    "studentVle_vle_info.shape"
   ]
  },
  {
   "cell_type": "code",
   "execution_count": 202,
   "id": "e37ca38e",
   "metadata": {},
   "outputs": [
    {
     "data": {
      "text/html": [
       "<div>\n",
       "<style scoped>\n",
       "    .dataframe tbody tr th:only-of-type {\n",
       "        vertical-align: middle;\n",
       "    }\n",
       "\n",
       "    .dataframe tbody tr th {\n",
       "        vertical-align: top;\n",
       "    }\n",
       "\n",
       "    .dataframe thead th {\n",
       "        text-align: right;\n",
       "    }\n",
       "</style>\n",
       "<table border=\"1\" class=\"dataframe\">\n",
       "  <thead>\n",
       "    <tr style=\"text-align: right;\">\n",
       "      <th></th>\n",
       "      <th>code_module</th>\n",
       "      <th>code_presentation</th>\n",
       "      <th>id_student</th>\n",
       "      <th>gender</th>\n",
       "      <th>region</th>\n",
       "      <th>highest_education</th>\n",
       "      <th>imd_band</th>\n",
       "      <th>age_band</th>\n",
       "      <th>num_of_prev_attempts</th>\n",
       "      <th>studied_credits</th>\n",
       "      <th>disability</th>\n",
       "      <th>final_result</th>\n",
       "      <th>id_site</th>\n",
       "      <th>date</th>\n",
       "      <th>sum_click</th>\n",
       "      <th>activity_type</th>\n",
       "    </tr>\n",
       "  </thead>\n",
       "  <tbody>\n",
       "    <tr>\n",
       "      <th>0</th>\n",
       "      <td>AAA</td>\n",
       "      <td>2013J</td>\n",
       "      <td>11391</td>\n",
       "      <td>M</td>\n",
       "      <td>East Anglian Region</td>\n",
       "      <td>HE Qualification</td>\n",
       "      <td>90-100%</td>\n",
       "      <td>55&lt;=</td>\n",
       "      <td>0</td>\n",
       "      <td>240</td>\n",
       "      <td>N</td>\n",
       "      <td>Pass</td>\n",
       "      <td>546652</td>\n",
       "      <td>-5</td>\n",
       "      <td>1</td>\n",
       "      <td>forumng</td>\n",
       "    </tr>\n",
       "    <tr>\n",
       "      <th>1</th>\n",
       "      <td>AAA</td>\n",
       "      <td>2013J</td>\n",
       "      <td>11391</td>\n",
       "      <td>M</td>\n",
       "      <td>East Anglian Region</td>\n",
       "      <td>HE Qualification</td>\n",
       "      <td>90-100%</td>\n",
       "      <td>55&lt;=</td>\n",
       "      <td>0</td>\n",
       "      <td>240</td>\n",
       "      <td>N</td>\n",
       "      <td>Pass</td>\n",
       "      <td>546652</td>\n",
       "      <td>-5</td>\n",
       "      <td>1</td>\n",
       "      <td>forumng</td>\n",
       "    </tr>\n",
       "    <tr>\n",
       "      <th>2</th>\n",
       "      <td>AAA</td>\n",
       "      <td>2013J</td>\n",
       "      <td>11391</td>\n",
       "      <td>M</td>\n",
       "      <td>East Anglian Region</td>\n",
       "      <td>HE Qualification</td>\n",
       "      <td>90-100%</td>\n",
       "      <td>55&lt;=</td>\n",
       "      <td>0</td>\n",
       "      <td>240</td>\n",
       "      <td>N</td>\n",
       "      <td>Pass</td>\n",
       "      <td>546652</td>\n",
       "      <td>0</td>\n",
       "      <td>5</td>\n",
       "      <td>forumng</td>\n",
       "    </tr>\n",
       "    <tr>\n",
       "      <th>3</th>\n",
       "      <td>AAA</td>\n",
       "      <td>2013J</td>\n",
       "      <td>11391</td>\n",
       "      <td>M</td>\n",
       "      <td>East Anglian Region</td>\n",
       "      <td>HE Qualification</td>\n",
       "      <td>90-100%</td>\n",
       "      <td>55&lt;=</td>\n",
       "      <td>0</td>\n",
       "      <td>240</td>\n",
       "      <td>N</td>\n",
       "      <td>Pass</td>\n",
       "      <td>546652</td>\n",
       "      <td>0</td>\n",
       "      <td>7</td>\n",
       "      <td>forumng</td>\n",
       "    </tr>\n",
       "    <tr>\n",
       "      <th>4</th>\n",
       "      <td>AAA</td>\n",
       "      <td>2013J</td>\n",
       "      <td>11391</td>\n",
       "      <td>M</td>\n",
       "      <td>East Anglian Region</td>\n",
       "      <td>HE Qualification</td>\n",
       "      <td>90-100%</td>\n",
       "      <td>55&lt;=</td>\n",
       "      <td>0</td>\n",
       "      <td>240</td>\n",
       "      <td>N</td>\n",
       "      <td>Pass</td>\n",
       "      <td>546652</td>\n",
       "      <td>18</td>\n",
       "      <td>6</td>\n",
       "      <td>forumng</td>\n",
       "    </tr>\n",
       "  </tbody>\n",
       "</table>\n",
       "</div>"
      ],
      "text/plain": [
       "  code_module code_presentation  id_student gender               region   \n",
       "0         AAA             2013J       11391      M  East Anglian Region  \\\n",
       "1         AAA             2013J       11391      M  East Anglian Region   \n",
       "2         AAA             2013J       11391      M  East Anglian Region   \n",
       "3         AAA             2013J       11391      M  East Anglian Region   \n",
       "4         AAA             2013J       11391      M  East Anglian Region   \n",
       "\n",
       "  highest_education imd_band age_band  num_of_prev_attempts  studied_credits   \n",
       "0  HE Qualification  90-100%     55<=                     0              240  \\\n",
       "1  HE Qualification  90-100%     55<=                     0              240   \n",
       "2  HE Qualification  90-100%     55<=                     0              240   \n",
       "3  HE Qualification  90-100%     55<=                     0              240   \n",
       "4  HE Qualification  90-100%     55<=                     0              240   \n",
       "\n",
       "  disability final_result  id_site  date  sum_click activity_type  \n",
       "0          N         Pass   546652    -5          1       forumng  \n",
       "1          N         Pass   546652    -5          1       forumng  \n",
       "2          N         Pass   546652     0          5       forumng  \n",
       "3          N         Pass   546652     0          7       forumng  \n",
       "4          N         Pass   546652    18          6       forumng  "
      ]
     },
     "execution_count": 202,
     "metadata": {},
     "output_type": "execute_result"
    }
   ],
   "source": [
    "studentVle_vle_info.head()"
   ]
  },
  {
   "cell_type": "code",
   "execution_count": 217,
   "id": "2e31a29b",
   "metadata": {},
   "outputs": [
    {
     "name": "stdout",
     "output_type": "stream",
     "text": [
      "(10655280, 16)\n",
      "code_module             object\n",
      "code_presentation       object\n",
      "id_student               int64\n",
      "gender                  object\n",
      "region                  object\n",
      "highest_education       object\n",
      "imd_band                object\n",
      "age_band                object\n",
      "num_of_prev_attempts     int64\n",
      "studied_credits          int64\n",
      "disability              object\n",
      "final_result            object\n",
      "id_site                  int64\n",
      "date                     int64\n",
      "sum_click                int64\n",
      "activity_type           object\n",
      "dtype: object\n",
      "code_module                  0\n",
      "code_presentation            0\n",
      "id_student                   0\n",
      "gender                       0\n",
      "region                       0\n",
      "highest_education            0\n",
      "imd_band                601885\n",
      "age_band                     0\n",
      "num_of_prev_attempts         0\n",
      "studied_credits              0\n",
      "disability                   0\n",
      "final_result                 0\n",
      "id_site                      0\n",
      "date                         0\n",
      "sum_click                    0\n",
      "activity_type                0\n",
      "dtype: int64\n"
     ]
    }
   ],
   "source": [
    "# check shape, data types and missing data from combined df\n",
    "print(studentVle_vle_info.shape)\n",
    "print(studentVle_vle_info.dtypes)\n",
    "print(studentVle_vle_info.isnull().sum())"
   ]
  },
  {
   "cell_type": "code",
   "execution_count": null,
   "id": "a963f199",
   "metadata": {},
   "outputs": [],
   "source": [
    "# check categories of categorical variables "
   ]
  },
  {
   "cell_type": "code",
   "execution_count": 209,
   "id": "0d8dfb0a",
   "metadata": {},
   "outputs": [
    {
     "data": {
      "text/plain": [
       "array(['M', 'F'], dtype=object)"
      ]
     },
     "execution_count": 209,
     "metadata": {},
     "output_type": "execute_result"
    }
   ],
   "source": [
    "studentVle_vle_info.gender.unique()"
   ]
  },
  {
   "cell_type": "code",
   "execution_count": 210,
   "id": "49676748",
   "metadata": {},
   "outputs": [
    {
     "data": {
      "text/plain": [
       "array(['HE Qualification', 'A Level or Equivalent', 'Lower Than A Level',\n",
       "       'Post Graduate Qualification', 'No Formal quals'], dtype=object)"
      ]
     },
     "execution_count": 210,
     "metadata": {},
     "output_type": "execute_result"
    }
   ],
   "source": [
    "studentVle_vle_info.highest_education.unique()"
   ]
  },
  {
   "cell_type": "code",
   "execution_count": 223,
   "id": "771cf2cb",
   "metadata": {},
   "outputs": [
    {
     "data": {
      "text/plain": [
       "array(['90-100%', '20-30%', '30-40%', '50-60%', '80-90%', '70-80%', nan,\n",
       "       '60-70%', '40-50%', '10-20%', '0-10%'], dtype=object)"
      ]
     },
     "execution_count": 223,
     "metadata": {},
     "output_type": "execute_result"
    }
   ],
   "source": [
    "studentVle_vle_info.imd_band.unique()\n",
    "# change 10-20 to match other category names\n",
    "studentVle_vle_info['imd_band'] = studentVle_vle_info['imd_band'].replace('10-20', '10-20%')\n",
    "#re-check imd band \n",
    "studentVle_vle_info.imd_band.unique()"
   ]
  },
  {
   "cell_type": "code",
   "execution_count": 219,
   "id": "329f4d4e",
   "metadata": {},
   "outputs": [
    {
     "data": {
      "text/plain": [
       "array(['55<=', '35-55', '0-35'], dtype=object)"
      ]
     },
     "execution_count": 219,
     "metadata": {},
     "output_type": "execute_result"
    }
   ],
   "source": [
    "studentVle_vle_info.age_band.unique()"
   ]
  },
  {
   "cell_type": "code",
   "execution_count": 220,
   "id": "0eb8aac4",
   "metadata": {},
   "outputs": [
    {
     "data": {
      "text/plain": [
       "array(['N', 'Y'], dtype=object)"
      ]
     },
     "execution_count": 220,
     "metadata": {},
     "output_type": "execute_result"
    }
   ],
   "source": [
    "studentVle_vle_info.disability.unique()"
   ]
  },
  {
   "cell_type": "code",
   "execution_count": 221,
   "id": "a2c943a7",
   "metadata": {},
   "outputs": [
    {
     "data": {
      "text/plain": [
       "array(['Pass', 'Withdrawn', 'Fail', 'Distinction'], dtype=object)"
      ]
     },
     "execution_count": 221,
     "metadata": {},
     "output_type": "execute_result"
    }
   ],
   "source": [
    "studentVle_vle_info.final_result.unique()"
   ]
  },
  {
   "cell_type": "code",
   "execution_count": 222,
   "id": "7313ff8e",
   "metadata": {},
   "outputs": [
    {
     "data": {
      "text/plain": [
       "array(['forumng', 'homepage', 'subpage', 'oucontent', 'resource', 'url',\n",
       "       'dataplus', 'glossary', 'oucollaborate', 'quiz', 'ouelluminate',\n",
       "       'sharedsubpage', 'questionnaire', 'page', 'externalquiz', 'ouwiki',\n",
       "       'dualpane', 'folder', 'repeatactivity', 'htmlactivity'],\n",
       "      dtype=object)"
      ]
     },
     "execution_count": 222,
     "metadata": {},
     "output_type": "execute_result"
    }
   ],
   "source": [
    "studentVle_vle_info.activity_type.unique()"
   ]
  },
  {
   "cell_type": "code",
   "execution_count": 224,
   "id": "7328608c",
   "metadata": {},
   "outputs": [],
   "source": [
    "# write the merged df to a csv\n",
    "studentVle_vle_info.to_csv('studentVle_vle_info.csv', index = False)"
   ]
  },
  {
   "cell_type": "code",
   "execution_count": null,
   "id": "d38368da",
   "metadata": {},
   "outputs": [],
   "source": []
  }
 ],
 "metadata": {
  "kernelspec": {
   "display_name": "Python 3 (ipykernel)",
   "language": "python",
   "name": "python3"
  },
  "language_info": {
   "codemirror_mode": {
    "name": "ipython",
    "version": 3
   },
   "file_extension": ".py",
   "mimetype": "text/x-python",
   "name": "python",
   "nbconvert_exporter": "python",
   "pygments_lexer": "ipython3",
   "version": "3.9.13"
  }
 },
 "nbformat": 4,
 "nbformat_minor": 5
}
